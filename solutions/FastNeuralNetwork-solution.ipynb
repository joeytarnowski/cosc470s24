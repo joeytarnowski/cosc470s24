{
  "nbformat": 4,
  "nbformat_minor": 0,
  "metadata": {
    "colab": {
      "provenance": [],
      "include_colab_link": true
    },
    "kernelspec": {
      "name": "python3",
      "display_name": "Python 3"
    },
    "language_info": {
      "name": "python"
    }
  },
  "cells": [
    {
      "cell_type": "markdown",
      "metadata": {
        "id": "view-in-github",
        "colab_type": "text"
      },
      "source": [
        "<a href=\"https://colab.research.google.com/github/joeytarnowski/cosc470s24/blob/main/solutions/FastNeuralNetwork-solution.ipynb\" target=\"_parent\"><img src=\"https://colab.research.google.com/assets/colab-badge.svg\" alt=\"Open In Colab\"/></a>"
      ]
    },
    {
      "cell_type": "markdown",
      "source": [
        "The **Hello, world** of neural networks\n",
        "This code builds a simple neural network that can recognize handwritten 28x28 pixel digits.\n",
        "\n",
        "Our first version will have 15 neurons in the hidden layer and 10 output neurons.\n",
        "\n",
        "See image below:\n",
        "http://neuralnetworksanddeeplearning.com/images/tikz12.png\n",
        "\n",
        "How many weights in this network?\n",
        "11760 weights in the first layer (784 * 15) and 150 weights in the second layer (15 * 10) = 11910 weights total\n",
        "15 biases in the hidden layer and 10 biases in the output layer = 25 biases total.\n",
        "11910 + 25 = 11935 parameters!"
      ],
      "metadata": {
        "id": "X6OTVSJZLxzO"
      }
    },
    {
      "cell_type": "code",
      "execution_count": 1,
      "metadata": {
        "id": "NQQ0yjJ6LUBN",
        "colab": {
          "base_uri": "https://localhost:8080/"
        },
        "outputId": "865171cf-ee9b-4519-ff8d-16bd64e0fba8"
      },
      "outputs": [
        {
          "output_type": "stream",
          "name": "stdout",
          "text": [
            "Cloning into 'nn'...\n",
            "remote: Enumerating objects: 63, done.\u001b[K\n",
            "remote: Counting objects: 100% (8/8), done.\u001b[K\n",
            "remote: Compressing objects: 100% (8/8), done.\u001b[K\n",
            "remote: Total 63 (delta 1), reused 3 (delta 0), pack-reused 55\u001b[K\n",
            "Receiving objects: 100% (63/63), 16.43 MiB | 30.32 MiB/s, done.\n",
            "Resolving deltas: 100% (28/28), done.\n",
            "/content/nn\n"
          ]
        }
      ],
      "source": [
        "!git clone https://github.com/MichalDanielDobrzanski/DeepLearningPython nn\n",
        "%cd nn"
      ]
    },
    {
      "cell_type": "code",
      "source": [
        "import network\n",
        "import mnist_loader\n",
        "training_data, validation_data, test_data = mnist_loader.load_data_wrapper()\n",
        "training_data = list(training_data)\n",
        "test_data = list(test_data)\n"
      ],
      "metadata": {
        "id": "TY_GaewAIO1z"
      },
      "execution_count": 2,
      "outputs": []
    },
    {
      "cell_type": "code",
      "source": [
        "import numpy as np\n",
        "print(np.shape(training_data))\n",
        "print(np.shape(training_data[0][0]))\n",
        "print(np.shape(training_data[0][1]))\n",
        "print(training_data[0][1])"
      ],
      "metadata": {
        "colab": {
          "base_uri": "https://localhost:8080/"
        },
        "id": "5OCPyJhtQYtc",
        "outputId": "11f14379-1a33-4392-e7e7-52e7996b9c30"
      },
      "execution_count": 3,
      "outputs": [
        {
          "output_type": "stream",
          "name": "stdout",
          "text": [
            "(50000, 2)\n",
            "(784, 1)\n",
            "(10, 1)\n",
            "[[0.]\n",
            " [0.]\n",
            " [0.]\n",
            " [0.]\n",
            " [0.]\n",
            " [1.]\n",
            " [0.]\n",
            " [0.]\n",
            " [0.]\n",
            " [0.]]\n"
          ]
        },
        {
          "output_type": "stream",
          "name": "stderr",
          "text": [
            "/usr/local/lib/python3.10/dist-packages/numpy/core/fromnumeric.py:2009: VisibleDeprecationWarning: Creating an ndarray from ragged nested sequences (which is a list-or-tuple of lists-or-tuples-or ndarrays with different lengths or shapes) is deprecated. If you meant to do this, you must specify 'dtype=object' when creating the ndarray.\n",
            "  result = asarray(a).shape\n"
          ]
        }
      ]
    },
    {
      "cell_type": "code",
      "source": [
        "# Solution for Lab 2\n",
        "# Part 1 - Average digit darkness\n",
        "# Step 1: Create a function that can calculate the darkness of an individual image\n",
        "def image_darkness(pixeldata):\n",
        "  dark_total = 0\n",
        "  # Adds the value of every pixel into dark_total\n",
        "  for d in pixeldata:\n",
        "    dark_total += d\n",
        "  return dark_total\n",
        "\n",
        "# Step 2: Now call that function on all the images in the training_data to calculate TEN TOTAL DARKNESSES\n",
        "# First question - Why will there be 10 darkness totals? - answer this question as a comment in your code.\n",
        "# ANSWER: There will be 10 darkness totals because there will be one average darkness for each digit 0-9\n",
        "darkness = image_darkness(training_data[0][0])\n",
        "whichimage = np.argmax(training_data[0][1])\n",
        "print(f\"The first image was a {whichimage} and its darkness was {darkness}\")\n",
        "\n",
        "# define a 10-element list of darkness totals\n",
        "darkness_totals = [0 for _ in range(10)]\n",
        "# define a 10-elment list of digit counts\n",
        "darkness_counts = [0 for _ in range(10)]\n",
        "\n",
        "# iterate through each image and update the two data structures\n",
        "for training_img in training_data:\n",
        "  darkness = image_darkness(training_img[0])\n",
        "  whichimage = np.argmax(training_img[1])\n",
        "  darkness_totals[whichimage] += darkness\n",
        "  darkness_counts[whichimage] += 1\n",
        "\n",
        "# Step 3: Now calculate the averages for all ten digits\n",
        "darkness_averages = [darkness_totals[i]/darkness_counts[i] for i in range(10)]\n",
        "\n",
        "print(darkness_counts)\n",
        "print(darkness_averages)\n",
        "\n"
      ],
      "metadata": {
        "id": "dvKBgfeDKLlo",
        "outputId": "0df22c66-454f-432b-901e-597bd06abff7",
        "colab": {
          "base_uri": "https://localhost:8080/"
        }
      },
      "execution_count": 4,
      "outputs": [
        {
          "output_type": "stream",
          "name": "stdout",
          "text": [
            "The first image was a 5 and its darkness was [107.51953]\n",
            "[4932, 5678, 4968, 5101, 4859, 4506, 4951, 5175, 4842, 4988]\n",
            "[array([135.86891], dtype=float32), array([59.660366], dtype=float32), array([116.29443], dtype=float32), array([110.87087], dtype=float32), array([95.2207], dtype=float32), array([100.346565], dtype=float32), array([107.38318], dtype=float32), array([89.8789], dtype=float32), array([117.880615], dtype=float32), array([96.04564], dtype=float32)]\n"
          ]
        }
      ]
    },
    {
      "cell_type": "code",
      "source": [
        "# Step 4: Use the averages to classify all 10,000 test images.\n",
        "# Keep track of how many were predicted/classified accurately overall as well as for each individual digit.\n",
        "# What were the top digit accuracies and which digits?\n",
        "# ANSWER: The most accurate digits were 0 and 1, which had the highest average darkness and the lowest average darkness, respectively\n",
        "def find_closest(darkness, darkness_averages):\n",
        "  # Get the absolute value of darkness minus each darkness average and select the smallest\n",
        "  counter = 0\n",
        "  current_closest = (abs(darkness_averages[0] - darkness), counter)\n",
        "  for digit_avg in darkness_averages:\n",
        "    if abs(digit_avg - darkness) < current_closest[0]:\n",
        "      current_closest = (abs(digit_avg - darkness), counter)\n",
        "    counter += 1\n",
        "  return current_closest[1]\n",
        "\n",
        "correct_counts = [0 for _ in range(10)]\n",
        "wrong_counts = [0 for _ in range(10)]\n",
        "\n",
        "for imgdata, whichimage in test_data:\n",
        "  darkness = image_darkness(imgdata)\n",
        "  # see which darkness_average is closest to \"darkness\" and make that our classification for this image\n",
        "  closest_digit = find_closest(darkness, darkness_averages)\n",
        "  if closest_digit == whichimage:\n",
        "    correct_counts[whichimage] += 1\n",
        "  else:\n",
        "    wrong_counts[whichimage] += 1\n",
        "\n",
        "# now that we have our correct/wrong counts, turn that into accuracies\n",
        "digit_accuracies = [correct_counts[i]/(correct_counts[i]+wrong_counts[i]) for i in range(10)]\n",
        "print(digit_accuracies)"
      ],
      "metadata": {
        "id": "OrQeweXgh-KR",
        "outputId": "8a1beda3-b5e7-48ff-d63c-a7399dccfc47",
        "colab": {
          "base_uri": "https://localhost:8080/"
        }
      },
      "execution_count": 5,
      "outputs": [
        {
          "output_type": "stream",
          "name": "stdout",
          "text": [
            "[0.5418367346938775, 0.8290748898678414, 0.04844961240310078, 0.048514851485148516, 0.048879837067209775, 0.0795964125560538, 0.06576200417536535, 0.28793774319066145, 0.13655030800821355, 0.04261645193260654]\n"
          ]
        }
      ]
    },
    {
      "cell_type": "code",
      "source": [
        "list_test_data = list(test_data)\n",
        "print(np.shape(list_test_data))\n",
        "print(np.shape(list_test_data[0]))\n",
        "print(list_test_data[0][1])\n"
      ],
      "metadata": {
        "colab": {
          "base_uri": "https://localhost:8080/"
        },
        "id": "vRcQD33wRB1c",
        "outputId": "a2973cc8-a475-45cb-e22d-fb882d58713c"
      },
      "execution_count": null,
      "outputs": [
        {
          "output_type": "stream",
          "name": "stdout",
          "text": [
            "(10000, 2)\n",
            "(2,)\n",
            "7\n"
          ]
        }
      ]
    },
    {
      "cell_type": "code",
      "source": [
        "# Part 2 - Simple neural network\n",
        "net = network.Network([784, 30, 10])\n",
        "net.SGD(training_data, 5, 10, 3.0, test_data=test_data)"
      ],
      "metadata": {
        "colab": {
          "base_uri": "https://localhost:8080/"
        },
        "id": "V3qm9cgIQ2rh",
        "outputId": "7159a7bd-d369-4fe1-a449-37729c33e0bd"
      },
      "execution_count": 7,
      "outputs": [
        {
          "output_type": "stream",
          "name": "stdout",
          "text": [
            "Epoch 0 : 9031 / 10000\n",
            "Epoch 1 : 9184 / 10000\n",
            "Epoch 2 : 9302 / 10000\n",
            "Epoch 3 : 9343 / 10000\n",
            "Epoch 4 : 9327 / 10000\n"
          ]
        }
      ]
    },
    {
      "cell_type": "code",
      "source": [
        "# Per digit accuracy\n",
        "import numpy as np\n",
        "import matplotlib.pyplot as plt\n",
        "\n",
        "a = net.feedforward(test_data[2][0])\n",
        "\n",
        "correct_counts = [0 for _ in range(10)]\n",
        "digit_counts = [0 for _ in range(10)]\n",
        "\n",
        "for (x, y) in test_data:\n",
        "  a = np.argmax(net.feedforward(x))\n",
        "  if a == y:\n",
        "    correct_counts[y] += 1\n",
        "  digit_counts[y] += 1\n",
        "\n",
        "accuracies = [correct_counts[i]/digit_counts[i] for i in range(10)]\n",
        "print(accuracies)\n",
        "\n",
        "# Plot the per digit accuracy\n",
        "fig = plt.figure(figsize = (10, 5))\n",
        "plt.bar(range(0,10), accuracies, color ='blue',\n",
        "        width = 0.4)\n",
        "plt.xlabel(\"Digit\")\n",
        "plt.ylabel(\"Accuracy\")\n",
        "plt.title(\"Per digit accuracy for standard hyperparameters\")\n",
        "plt.show()"
      ],
      "metadata": {
        "id": "-2r7xWt77ZPv",
        "outputId": "7bef368a-38a0-49b6-8d74-c15c896a767e",
        "colab": {
          "base_uri": "https://localhost:8080/",
          "height": 525
        }
      },
      "execution_count": 8,
      "outputs": [
        {
          "output_type": "stream",
          "name": "stdout",
          "text": [
            "[0.9744897959183674, 0.9718061674008811, 0.9273255813953488, 0.9405940594059405, 0.9745417515274949, 0.8677130044843049, 0.9363256784968684, 0.943579766536965, 0.9229979466119097, 0.8572844400396432]\n"
          ]
        },
        {
          "output_type": "display_data",
          "data": {
            "text/plain": [
              "<Figure size 1000x500 with 1 Axes>"
            ],
            "image/png": "[encoded data removed]"
          },
          "metadata": {}
        }
      ]
    },
    {
      "cell_type": "code",
      "source": [
        "# Part 3 - Exploring impact of hyper-parameters\n",
        "import time\n",
        "\n",
        "# Helper function to find total accuracy for a model\n",
        "def findaccuracy (a):\n",
        "  correct_counts = [0 for _ in range(10)]\n",
        "  digit_counts = [0 for _ in range(10)]\n",
        "\n",
        "  for (x, y) in test_data:\n",
        "    a = np.argmax(net.feedforward(x))\n",
        "    if a == y:\n",
        "      correct_counts[y] += 1\n",
        "    digit_counts[y] += 1\n",
        "\n",
        "  accuracies = [correct_counts[i]/digit_counts[i] for i in range(10)]\n",
        "  return sum(accuracies)/len(accuracies)\n",
        "\n",
        "# Step 1 - vary the number of training epochs from 5 to 60 as follows: 5, 15, 30, 60\n",
        "accuracies = [0 for _ in range(4)]\n",
        "trainingtime = [0 for _ in range(4)]\n",
        "\n",
        "# Step 1A - epochs = 5\n",
        "startingtime = time.perf_counter()\n",
        "net = network.Network([784, 30, 10])\n",
        "net.SGD(training_data, 5, 10, 3.0, test_data=test_data)\n",
        "a = net.feedforward(test_data[2][0])\n",
        "accuracies[0] = findaccuracy(a)\n",
        "trainingtime[0] = time.perf_counter() - startingtime\n",
        "print(accuracies[0])\n",
        "print(trainingtime[0])\n",
        "\n",
        "# Step 1B - epochs = 15\n",
        "startingtime = time.perf_counter()\n",
        "net = network.Network([784, 30, 10])\n",
        "net.SGD(training_data, 15, 10, 3.0, test_data=test_data)\n",
        "a = net.feedforward(test_data[2][0])\n",
        "accuracies[1] = findaccuracy(a)\n",
        "trainingtime[1] = time.perf_counter() - startingtime\n",
        "print(accuracies[1])\n",
        "print(trainingtime[1])\n",
        "\n",
        "# Step 1C - epochs = 30\n",
        "startingtime = time.perf_counter()\n",
        "net = network.Network([784, 30, 10])\n",
        "net.SGD(training_data, 30, 10, 3.0, test_data=test_data)\n",
        "a = net.feedforward(test_data[2][0])\n",
        "accuracies[2] = findaccuracy(a)\n",
        "trainingtime[2] = time.perf_counter() - startingtime\n",
        "print(accuracies[2])\n",
        "print(trainingtime[2])\n",
        "\n",
        "# Step 1D - epochs = 60\n",
        "startingtime = time.perf_counter()\n",
        "net = network.Network([784, 30, 10])\n",
        "net.SGD(training_data, 60, 10, 3.0, test_data=test_data)\n",
        "a = net.feedforward(test_data[2][0])\n",
        "accuracies[3] = findaccuracy(a)\n",
        "trainingtime[3] = time.perf_counter() - startingtime\n",
        "print(accuracies[3])\n",
        "print(trainingtime[3])"
      ],
      "metadata": {
        "id": "Ctg0A2Nr8oAn",
        "outputId": "c7440345-fce3-4a1c-c09b-e0cf93ed45b0",
        "colab": {
          "base_uri": "https://localhost:8080/"
        }
      },
      "execution_count": 25,
      "outputs": [
        {
          "output_type": "stream",
          "name": "stdout",
          "text": [
            "Epoch 0 : 8196 / 10000\n",
            "Epoch 1 : 8322 / 10000\n",
            "Epoch 2 : 8369 / 10000\n",
            "Epoch 3 : 8404 / 10000\n",
            "Epoch 4 : 9321 / 10000\n",
            "0.9310607210862148\n",
            "66.87859996500083\n",
            "Epoch 0 : 8989 / 10000\n",
            "Epoch 1 : 9276 / 10000\n",
            "Epoch 2 : 9320 / 10000\n",
            "Epoch 3 : 9402 / 10000\n",
            "Epoch 4 : 9421 / 10000\n",
            "Epoch 5 : 9398 / 10000\n",
            "Epoch 6 : 9435 / 10000\n",
            "Epoch 7 : 9456 / 10000\n",
            "Epoch 8 : 9488 / 10000\n",
            "Epoch 9 : 9485 / 10000\n",
            "Epoch 10 : 9491 / 10000\n",
            "Epoch 11 : 9503 / 10000\n",
            "Epoch 12 : 9495 / 10000\n",
            "Epoch 13 : 9511 / 10000\n",
            "Epoch 14 : 9481 / 10000\n",
            "0.9474767759756437\n",
            "195.68465106900112\n",
            "Epoch 0 : 9108 / 10000\n",
            "Epoch 1 : 9244 / 10000\n",
            "Epoch 2 : 9316 / 10000\n",
            "Epoch 3 : 9343 / 10000\n",
            "Epoch 4 : 9361 / 10000\n",
            "Epoch 5 : 9417 / 10000\n",
            "Epoch 6 : 9380 / 10000\n",
            "Epoch 7 : 9443 / 10000\n",
            "Epoch 8 : 9419 / 10000\n",
            "Epoch 9 : 9451 / 10000\n",
            "Epoch 10 : 9452 / 10000\n",
            "Epoch 11 : 9451 / 10000\n",
            "Epoch 12 : 9473 / 10000\n",
            "Epoch 13 : 9482 / 10000\n",
            "Epoch 14 : 9480 / 10000\n",
            "Epoch 15 : 9495 / 10000\n",
            "Epoch 16 : 9469 / 10000\n",
            "Epoch 17 : 9483 / 10000\n",
            "Epoch 18 : 9459 / 10000\n",
            "Epoch 19 : 9495 / 10000\n",
            "Epoch 20 : 9490 / 10000\n",
            "Epoch 21 : 9512 / 10000\n",
            "Epoch 22 : 9513 / 10000\n",
            "Epoch 23 : 9488 / 10000\n",
            "Epoch 24 : 9525 / 10000\n",
            "Epoch 25 : 9490 / 10000\n",
            "Epoch 26 : 9491 / 10000\n",
            "Epoch 27 : 9516 / 10000\n",
            "Epoch 28 : 9500 / 10000\n",
            "Epoch 29 : 9504 / 10000\n",
            "0.9497058057860984\n",
            "393.60585294299926\n",
            "Epoch 0 : 9069 / 10000\n",
            "Epoch 1 : 9236 / 10000\n",
            "Epoch 2 : 9296 / 10000\n",
            "Epoch 3 : 9329 / 10000\n",
            "Epoch 4 : 9363 / 10000\n",
            "Epoch 5 : 9302 / 10000\n",
            "Epoch 6 : 9398 / 10000\n",
            "Epoch 7 : 9427 / 10000\n",
            "Epoch 8 : 9425 / 10000\n",
            "Epoch 9 : 9418 / 10000\n",
            "Epoch 10 : 9446 / 10000\n",
            "Epoch 11 : 9446 / 10000\n",
            "Epoch 12 : 9480 / 10000\n",
            "Epoch 13 : 9445 / 10000\n",
            "Epoch 14 : 9480 / 10000\n",
            "Epoch 15 : 9486 / 10000\n",
            "Epoch 16 : 9469 / 10000\n",
            "Epoch 17 : 9470 / 10000\n",
            "Epoch 18 : 9483 / 10000\n",
            "Epoch 19 : 9475 / 10000\n",
            "Epoch 20 : 9397 / 10000\n",
            "Epoch 21 : 9468 / 10000\n",
            "Epoch 22 : 9451 / 10000\n",
            "Epoch 23 : 9466 / 10000\n",
            "Epoch 24 : 9468 / 10000\n",
            "Epoch 25 : 9504 / 10000\n",
            "Epoch 26 : 9476 / 10000\n",
            "Epoch 27 : 9475 / 10000\n",
            "Epoch 28 : 9487 / 10000\n",
            "Epoch 29 : 9461 / 10000\n",
            "Epoch 30 : 9478 / 10000\n",
            "Epoch 31 : 9493 / 10000\n",
            "Epoch 32 : 9483 / 10000\n",
            "Epoch 33 : 9476 / 10000\n",
            "Epoch 34 : 9463 / 10000\n",
            "Epoch 35 : 9466 / 10000\n",
            "Epoch 36 : 9506 / 10000\n",
            "Epoch 37 : 9494 / 10000\n",
            "Epoch 38 : 9484 / 10000\n",
            "Epoch 39 : 9475 / 10000\n",
            "Epoch 40 : 9490 / 10000\n",
            "Epoch 41 : 9496 / 10000\n",
            "Epoch 42 : 9477 / 10000\n",
            "Epoch 43 : 9476 / 10000\n",
            "Epoch 44 : 9498 / 10000\n",
            "Epoch 45 : 9485 / 10000\n",
            "Epoch 46 : 9491 / 10000\n",
            "Epoch 47 : 9487 / 10000\n",
            "Epoch 48 : 9477 / 10000\n",
            "Epoch 49 : 9502 / 10000\n",
            "Epoch 50 : 9491 / 10000\n",
            "Epoch 51 : 9484 / 10000\n",
            "Epoch 52 : 9451 / 10000\n",
            "Epoch 53 : 9486 / 10000\n",
            "Epoch 54 : 9477 / 10000\n",
            "Epoch 55 : 9493 / 10000\n",
            "Epoch 56 : 9474 / 10000\n",
            "Epoch 57 : 9480 / 10000\n",
            "Epoch 58 : 9472 / 10000\n",
            "Epoch 59 : 9484 / 10000\n",
            "0.9479210377280202\n",
            "788.7589298460007\n"
          ]
        }
      ]
    },
    {
      "cell_type": "code",
      "source": [
        "# Part 3, Step 1 chart\n",
        "# Chart the accuracy and time for each epoch test\n",
        "barwidth = 0.4\n",
        "epochlabels = [\"5\", \"15\", \"30\", \"60\"]\n",
        "\n",
        "# Plot the accuracy\n",
        "fig, ax = plt.subplots()\n",
        "\n",
        "ax.bar(np.arange(len(epochlabels)), accuracies, color='blue', width=barwidth)\n",
        "ax.set_xlabel(\"Epochs\")\n",
        "ax.set_ylabel(\"Accuracy\")\n",
        "ax.set_xticks(np.arange(len(epochlabels)))\n",
        "ax.set_xticklabels(epochlabels)\n",
        "ax.set_title(\"Accuracy for varied epoch hyperparameter\")\n",
        "# Set the y-axis scale to start from 0.8\n",
        "ax.set_ylim(0.8, 1.0)\n",
        "\n",
        "plt.show()\n",
        "\n",
        "# Plot the time to train\n",
        "fig, ax = plt.subplots()\n",
        "\n",
        "ax.bar(np.arange(len(epochlabels)), trainingtime, color='blue', width=barwidth)\n",
        "ax.set_xlabel(\"Epochs\")\n",
        "ax.set_ylabel(\"Time (s)\")\n",
        "ax.set_xticks(np.arange(len(epochlabels)))\n",
        "ax.set_xticklabels(epochlabels)\n",
        "ax.set_title(\"Training Time for varied epoch hyperparameter\")\n",
        "\n",
        "\n",
        "plt.show()"
      ],
      "metadata": {
        "id": "eFpqdbz6BntF",
        "outputId": "ea00ecad-dff8-4a8e-a4e6-516a866b3d8b",
        "colab": {
          "base_uri": "https://localhost:8080/",
          "height": 927
        }
      },
      "execution_count": 26,
      "outputs": [
        {
          "output_type": "display_data",
          "data": {
            "text/plain": [
              "<Figure size 640x480 with 1 Axes>"
            ],
            "image/png": "[encoded data removed]"
          },
          "metadata": {}
        },
        {
          "output_type": "display_data",
          "data": {
            "text/plain": [
              "<Figure size 640x480 with 1 Axes>"
            ],
            "image/png": "[encoded data removed]"
          },
          "metadata": {}
        }
      ]
    },
    {
      "cell_type": "code",
      "source": [
        "# Step 2 - vary the batch size from 5 to 100 as follows: 5, 10, 50, 100\n",
        "accuracies2 = [0 for _ in range(4)]\n",
        "trainingtime2 = [0 for _ in range(4)]\n",
        "\n",
        "# Step 2A - batch size = 5\n",
        "startingtime = time.perf_counter()\n",
        "net = network.Network([784, 30, 10])\n",
        "net.SGD(training_data, 30, 5, 3.0, test_data=test_data)\n",
        "a = net.feedforward(test_data[2][0])\n",
        "accuracies2[0] = findaccuracy(a)\n",
        "trainingtime2[0] = time.perf_counter() - startingtime\n",
        "print(accuracies2[0])\n",
        "print(trainingtime2[0])\n",
        "\n",
        "# Step 2B - batch size = 10\n",
        "startingtime = time.perf_counter()\n",
        "net = network.Network([784, 30, 10])\n",
        "net.SGD(training_data, 30, 10, 3.0, test_data=test_data)\n",
        "a = net.feedforward(test_data[2][0])\n",
        "accuracies2[1] = findaccuracy(a)\n",
        "trainingtime2[1] = time.perf_counter() - startingtime\n",
        "print(accuracies2[1])\n",
        "print(trainingtime2[1])\n",
        "\n",
        "# Step 2C - batch size = 50\n",
        "startingtime = time.perf_counter()\n",
        "net = network.Network([784, 30, 10])\n",
        "net.SGD(training_data, 30, 50, 3.0, test_data=test_data)\n",
        "a = net.feedforward(test_data[2][0])\n",
        "accuracies2[2] = findaccuracy(a)\n",
        "trainingtime2[2] = time.perf_counter() - startingtime\n",
        "print(accuracies2[2])\n",
        "print(trainingtime2[2])\n",
        "\n",
        "# Step 2D - batch size = 100\n",
        "startingtime = time.perf_counter()\n",
        "net = network.Network([784, 30, 10])\n",
        "net.SGD(training_data, 30, 100, 3.0, test_data=test_data)\n",
        "a = net.feedforward(test_data[2][0])\n",
        "accuracies2[3] = findaccuracy(a)\n",
        "trainingtime2[3] = time.perf_counter() - startingtime\n",
        "print(accuracies2[3])\n",
        "print(trainingtime2[3])"
      ],
      "metadata": {
        "id": "oI00CCJRCJJa",
        "outputId": "b7ffad38-8c31-4867-901c-156a423adeff",
        "colab": {
          "base_uri": "https://localhost:8080/"
        }
      },
      "execution_count": 27,
      "outputs": [
        {
          "output_type": "stream",
          "name": "stdout",
          "text": [
            "Epoch 0 : 9122 / 10000\n",
            "Epoch 1 : 9183 / 10000\n",
            "Epoch 2 : 9284 / 10000\n",
            "Epoch 3 : 9350 / 10000\n",
            "Epoch 4 : 9350 / 10000\n",
            "Epoch 5 : 9396 / 10000\n",
            "Epoch 6 : 9345 / 10000\n",
            "Epoch 7 : 9404 / 10000\n",
            "Epoch 8 : 9399 / 10000\n",
            "Epoch 9 : 9438 / 10000\n",
            "Epoch 10 : 9424 / 10000\n",
            "Epoch 11 : 9456 / 10000\n",
            "Epoch 12 : 9472 / 10000\n",
            "Epoch 13 : 9478 / 10000\n",
            "Epoch 14 : 9500 / 10000\n",
            "Epoch 15 : 9497 / 10000\n",
            "Epoch 16 : 9459 / 10000\n",
            "Epoch 17 : 9472 / 10000\n",
            "Epoch 18 : 9493 / 10000\n",
            "Epoch 19 : 9510 / 10000\n",
            "Epoch 20 : 9475 / 10000\n",
            "Epoch 21 : 9516 / 10000\n",
            "Epoch 22 : 9502 / 10000\n",
            "Epoch 23 : 9476 / 10000\n",
            "Epoch 24 : 9488 / 10000\n",
            "Epoch 25 : 9493 / 10000\n",
            "Epoch 26 : 9507 / 10000\n",
            "Epoch 27 : 9474 / 10000\n",
            "Epoch 28 : 9503 / 10000\n",
            "Epoch 29 : 9505 / 10000\n",
            "0.9497748214951682\n",
            "420.75651202599875\n",
            "Epoch 0 : 9011 / 10000\n",
            "Epoch 1 : 9238 / 10000\n",
            "Epoch 2 : 9265 / 10000\n",
            "Epoch 3 : 9338 / 10000\n",
            "Epoch 4 : 9359 / 10000\n",
            "Epoch 5 : 9387 / 10000\n",
            "Epoch 6 : 9406 / 10000\n",
            "Epoch 7 : 9409 / 10000\n",
            "Epoch 8 : 9422 / 10000\n",
            "Epoch 9 : 9420 / 10000\n",
            "Epoch 10 : 9442 / 10000\n",
            "Epoch 11 : 9431 / 10000\n",
            "Epoch 12 : 9452 / 10000\n",
            "Epoch 13 : 9458 / 10000\n",
            "Epoch 14 : 9441 / 10000\n",
            "Epoch 15 : 9446 / 10000\n",
            "Epoch 16 : 9460 / 10000\n",
            "Epoch 17 : 9462 / 10000\n",
            "Epoch 18 : 9440 / 10000\n",
            "Epoch 19 : 9453 / 10000\n",
            "Epoch 20 : 9509 / 10000\n",
            "Epoch 21 : 9478 / 10000\n",
            "Epoch 22 : 9478 / 10000\n",
            "Epoch 23 : 9473 / 10000\n",
            "Epoch 24 : 9492 / 10000\n",
            "Epoch 25 : 9466 / 10000\n",
            "Epoch 26 : 9481 / 10000\n",
            "Epoch 27 : 9489 / 10000\n",
            "Epoch 28 : 9487 / 10000\n",
            "Epoch 29 : 9478 / 10000\n",
            "0.946920264792959\n",
            "400.03673720499864\n",
            "Epoch 0 : 7757 / 10000\n",
            "Epoch 1 : 8866 / 10000\n",
            "Epoch 2 : 9026 / 10000\n",
            "Epoch 3 : 9117 / 10000\n",
            "Epoch 4 : 9190 / 10000\n",
            "Epoch 5 : 9218 / 10000\n",
            "Epoch 6 : 9246 / 10000\n",
            "Epoch 7 : 9265 / 10000\n",
            "Epoch 8 : 9295 / 10000\n",
            "Epoch 9 : 9309 / 10000\n",
            "Epoch 10 : 9320 / 10000\n",
            "Epoch 11 : 9328 / 10000\n",
            "Epoch 12 : 9331 / 10000\n",
            "Epoch 13 : 9347 / 10000\n",
            "Epoch 14 : 9368 / 10000\n",
            "Epoch 15 : 9373 / 10000\n",
            "Epoch 16 : 9377 / 10000\n",
            "Epoch 17 : 9399 / 10000\n",
            "Epoch 18 : 9385 / 10000\n",
            "Epoch 19 : 9396 / 10000\n",
            "Epoch 20 : 9399 / 10000\n",
            "Epoch 21 : 9402 / 10000\n",
            "Epoch 22 : 9395 / 10000\n",
            "Epoch 23 : 9411 / 10000\n",
            "Epoch 24 : 9406 / 10000\n",
            "Epoch 25 : 9434 / 10000\n",
            "Epoch 26 : 9417 / 10000\n",
            "Epoch 27 : 9421 / 10000\n",
            "Epoch 28 : 9420 / 10000\n",
            "Epoch 29 : 9426 / 10000\n",
            "0.9418995188244323\n",
            "397.3079241809992\n",
            "Epoch 0 : 6142 / 10000\n",
            "Epoch 1 : 7619 / 10000\n",
            "Epoch 2 : 7856 / 10000\n",
            "Epoch 3 : 7975 / 10000\n",
            "Epoch 4 : 8062 / 10000\n",
            "Epoch 5 : 8098 / 10000\n",
            "Epoch 6 : 8154 / 10000\n",
            "Epoch 7 : 8162 / 10000\n",
            "Epoch 8 : 8205 / 10000\n",
            "Epoch 9 : 8232 / 10000\n",
            "Epoch 10 : 8253 / 10000\n",
            "Epoch 11 : 8271 / 10000\n",
            "Epoch 12 : 8287 / 10000\n",
            "Epoch 13 : 8297 / 10000\n",
            "Epoch 14 : 8306 / 10000\n",
            "Epoch 15 : 8318 / 10000\n",
            "Epoch 16 : 8333 / 10000\n",
            "Epoch 17 : 8346 / 10000\n",
            "Epoch 18 : 8352 / 10000\n",
            "Epoch 19 : 8990 / 10000\n",
            "Epoch 20 : 9243 / 10000\n",
            "Epoch 21 : 9242 / 10000\n",
            "Epoch 22 : 9267 / 10000\n",
            "Epoch 23 : 9266 / 10000\n",
            "Epoch 24 : 9276 / 10000\n",
            "Epoch 25 : 9283 / 10000\n",
            "Epoch 26 : 9281 / 10000\n",
            "Epoch 27 : 9292 / 10000\n",
            "Epoch 28 : 9311 / 10000\n",
            "Epoch 29 : 9320 / 10000\n",
            "0.9312021101484209\n",
            "395.3355031400006\n"
          ]
        }
      ]
    },
    {
      "cell_type": "code",
      "source": [
        "# Part 3, Step 2 chart\n",
        "# Chart the accuracy and time for each batch size test\n",
        "barwidth = 0.4\n",
        "batchlabels = [\"5\", \"10\", \"50\", \"100\"]\n",
        "\n",
        "# Plot the accuracy\n",
        "fig, ax = plt.subplots()\n",
        "\n",
        "ax.bar(np.arange(len(batchlabels)), accuracies2, color='blue', width=barwidth)\n",
        "ax.set_xlabel(\"Batches\")\n",
        "ax.set_ylabel(\"Accuracy\")\n",
        "ax.set_xticks(np.arange(len(batchlabels)))\n",
        "ax.set_xticklabels(batchlabels)\n",
        "ax.set_title(\"Accuracy for varied batch size hyperparameter\")\n",
        "# Set the y-axis scale to start from 0.8\n",
        "ax.set_ylim(0.8, 1.0)\n",
        "\n",
        "plt.show()\n",
        "\n",
        "# Plot the time to train\n",
        "fig, ax = plt.subplots()\n",
        "\n",
        "ax.bar(np.arange(len(batchlabels)), trainingtime2, color='blue', width=barwidth)\n",
        "ax.set_xlabel(\"Batches\")\n",
        "ax.set_ylabel(\"Time (s)\")\n",
        "ax.set_xticks(np.arange(len(batchlabels)))\n",
        "ax.set_xticklabels(batchlabels)\n",
        "ax.set_title(\"Training Time for varied batch size hyperparameter\")\n",
        "\n",
        "ax.set_ylim(350, 450)\n",
        "\n",
        "plt.show()"
      ],
      "metadata": {
        "id": "Kd7j2ColdBJ8",
        "outputId": "b7a2c658-2b60-4e4c-d100-b333770fe131",
        "colab": {
          "base_uri": "https://localhost:8080/",
          "height": 927
        }
      },
      "execution_count": 29,
      "outputs": [
        {
          "output_type": "display_data",
          "data": {
            "text/plain": [
              "<Figure size 640x480 with 1 Axes>"
            ],
            "image/png": "[encoded data removed]"
          },
          "metadata": {}
        },
        {
          "output_type": "display_data",
          "data": {
            "text/plain": [
              "<Figure size 640x480 with 1 Axes>"
            ],
            "image/png": "[encoded data removed]"
          },
          "metadata": {}
        }
      ]
    },
    {
      "cell_type": "code",
      "source": [
        "# Step 3 - vary the learning rate from 1.0 to 5.0 as follows: 1.0, 3.0, 5.0\n",
        "accuracies3 = [0 for _ in range(3)]\n",
        "trainingtime3 = [0 for _ in range(3)]\n",
        "\n",
        "# Step 3A - learning rate = 1.0\n",
        "startingtime = time.perf_counter()\n",
        "net = network.Network([784, 30, 10])\n",
        "net.SGD(training_data, 30, 10, 1.0, test_data=test_data)\n",
        "a = net.feedforward(test_data[2][0])\n",
        "accuracies3[0] = findaccuracy(a)\n",
        "trainingtime3[0] = time.perf_counter() - startingtime\n",
        "print(accuracies3[0])\n",
        "print(trainingtime3[0])\n",
        "\n",
        "# Step 3B - learning rate = 3.0\n",
        "startingtime = time.perf_counter()\n",
        "net = network.Network([784, 30, 10])\n",
        "net.SGD(training_data, 30, 10, 3.0, test_data=test_data)\n",
        "a = net.feedforward(test_data[2][0])\n",
        "accuracies3[1] = findaccuracy(a)\n",
        "trainingtime3[1] = time.perf_counter() - startingtime\n",
        "print(accuracies3[1])\n",
        "print(trainingtime3[1])\n",
        "\n",
        "# Step 3C - learning rate = 5.0\n",
        "startingtime = time.perf_counter()\n",
        "net = network.Network([784, 30, 10])\n",
        "net.SGD(training_data, 30, 10, 5.0, test_data=test_data)\n",
        "a = net.feedforward(test_data[2][0])\n",
        "accuracies3[2] = findaccuracy(a)\n",
        "trainingtime3[2] = time.perf_counter() - startingtime\n",
        "print(accuracies3[2])\n",
        "print(trainingtime3[2])"
      ],
      "metadata": {
        "id": "5Zg94SwGCNBr",
        "outputId": "5e8deda5-112e-402d-b8c2-0b3203536949",
        "colab": {
          "base_uri": "https://localhost:8080/"
        }
      },
      "execution_count": 30,
      "outputs": [
        {
          "output_type": "stream",
          "name": "stdout",
          "text": [
            "Epoch 0 : 8752 / 10000\n",
            "Epoch 1 : 9038 / 10000\n",
            "Epoch 2 : 9150 / 10000\n",
            "Epoch 3 : 9185 / 10000\n",
            "Epoch 4 : 9266 / 10000\n",
            "Epoch 5 : 9284 / 10000\n",
            "Epoch 6 : 9301 / 10000\n",
            "Epoch 7 : 9332 / 10000\n",
            "Epoch 8 : 9346 / 10000\n",
            "Epoch 9 : 9352 / 10000\n",
            "Epoch 10 : 9360 / 10000\n",
            "Epoch 11 : 9371 / 10000\n",
            "Epoch 12 : 9385 / 10000\n",
            "Epoch 13 : 9389 / 10000\n",
            "Epoch 14 : 9408 / 10000\n",
            "Epoch 15 : 9392 / 10000\n",
            "Epoch 16 : 9401 / 10000\n",
            "Epoch 17 : 9414 / 10000\n",
            "Epoch 18 : 9400 / 10000\n",
            "Epoch 19 : 9406 / 10000\n",
            "Epoch 20 : 9409 / 10000\n",
            "Epoch 21 : 9405 / 10000\n",
            "Epoch 22 : 9405 / 10000\n",
            "Epoch 23 : 9412 / 10000\n",
            "Epoch 24 : 9404 / 10000\n",
            "Epoch 25 : 9419 / 10000\n",
            "Epoch 26 : 9425 / 10000\n",
            "Epoch 27 : 9423 / 10000\n",
            "Epoch 28 : 9410 / 10000\n",
            "Epoch 29 : 9416 / 10000\n",
            "0.9410567133484491\n",
            "409.59938658899955\n",
            "Epoch 0 : 9129 / 10000\n",
            "Epoch 1 : 9240 / 10000\n",
            "Epoch 2 : 9329 / 10000\n",
            "Epoch 3 : 9381 / 10000\n",
            "Epoch 4 : 9397 / 10000\n",
            "Epoch 5 : 9404 / 10000\n",
            "Epoch 6 : 9441 / 10000\n",
            "Epoch 7 : 9459 / 10000\n",
            "Epoch 8 : 9431 / 10000\n",
            "Epoch 9 : 9452 / 10000\n",
            "Epoch 10 : 9496 / 10000\n",
            "Epoch 11 : 9474 / 10000\n",
            "Epoch 12 : 9476 / 10000\n",
            "Epoch 13 : 9464 / 10000\n",
            "Epoch 14 : 9470 / 10000\n",
            "Epoch 15 : 9483 / 10000\n",
            "Epoch 16 : 9465 / 10000\n",
            "Epoch 17 : 9504 / 10000\n",
            "Epoch 18 : 9506 / 10000\n",
            "Epoch 19 : 9498 / 10000\n",
            "Epoch 20 : 9501 / 10000\n",
            "Epoch 21 : 9516 / 10000\n",
            "Epoch 22 : 9510 / 10000\n",
            "Epoch 23 : 9511 / 10000\n",
            "Epoch 24 : 9534 / 10000\n",
            "Epoch 25 : 9509 / 10000\n",
            "Epoch 26 : 9531 / 10000\n",
            "Epoch 27 : 9515 / 10000\n",
            "Epoch 28 : 9510 / 10000\n",
            "Epoch 29 : 9522 / 10000\n",
            "0.9513405012726585\n",
            "393.57538657799887\n",
            "Epoch 0 : 9110 / 10000\n",
            "Epoch 1 : 9257 / 10000\n",
            "Epoch 2 : 9188 / 10000\n",
            "Epoch 3 : 9396 / 10000\n",
            "Epoch 4 : 9385 / 10000\n",
            "Epoch 5 : 9387 / 10000\n",
            "Epoch 6 : 9438 / 10000\n",
            "Epoch 7 : 9426 / 10000\n",
            "Epoch 8 : 9420 / 10000\n",
            "Epoch 9 : 9439 / 10000\n",
            "Epoch 10 : 9464 / 10000\n",
            "Epoch 11 : 9475 / 10000\n",
            "Epoch 12 : 9472 / 10000\n",
            "Epoch 13 : 9452 / 10000\n",
            "Epoch 14 : 9480 / 10000\n",
            "Epoch 15 : 9449 / 10000\n",
            "Epoch 16 : 9476 / 10000\n",
            "Epoch 17 : 9498 / 10000\n",
            "Epoch 18 : 9464 / 10000\n",
            "Epoch 19 : 9500 / 10000\n",
            "Epoch 20 : 9483 / 10000\n",
            "Epoch 21 : 9458 / 10000\n",
            "Epoch 22 : 9490 / 10000\n",
            "Epoch 23 : 9494 / 10000\n",
            "Epoch 24 : 9503 / 10000\n",
            "Epoch 25 : 9490 / 10000\n",
            "Epoch 26 : 9484 / 10000\n",
            "Epoch 27 : 9498 / 10000\n",
            "Epoch 28 : 9489 / 10000\n",
            "Epoch 29 : 9496 / 10000\n",
            "0.9490055978412139\n",
            "392.90266412599885\n"
          ]
        }
      ]
    },
    {
      "cell_type": "code",
      "source": [
        "# Part 3, Step 3 chart\n",
        "# Chart the accuracy and time for each learning rate test\n",
        "barwidth = 0.4\n",
        "learnlabels = [\"1.0\", \"3.0\", \"5.0\"]\n",
        "\n",
        "# Plot the accuracy\n",
        "fig, ax = plt.subplots()\n",
        "\n",
        "ax.bar(np.arange(len(learnlabels)), accuracies3, color='blue', width=barwidth)\n",
        "ax.set_xlabel(\"Learning Rate\")\n",
        "ax.set_ylabel(\"Accuracy\")\n",
        "ax.set_xticks(np.arange(len(learnlabels)))\n",
        "ax.set_xticklabels(learnlabels)\n",
        "ax.set_title(\"Accuracy for varied learning rate hyperparameter\")\n",
        "# Set the y-axis scale to start from 0.8\n",
        "ax.set_ylim(0.8, 1.0)\n",
        "\n",
        "plt.show()\n",
        "\n",
        "# Plot the time to train\n",
        "fig, ax = plt.subplots()\n",
        "\n",
        "ax.bar(np.arange(len(learnlabels)), trainingtime3, color='blue', width=barwidth)\n",
        "ax.set_xlabel(\"Learning Rate\")\n",
        "ax.set_ylabel(\"Time (s)\")\n",
        "ax.set_xticks(np.arange(len(learnlabels)))\n",
        "ax.set_xticklabels(learnlabels)\n",
        "ax.set_title(\"Training Time for varied learning rate hyperparameter\")\n",
        "\n",
        "ax.set_ylim(350, 450)\n",
        "\n",
        "plt.show()"
      ],
      "metadata": {
        "id": "4yIJwce8fO5f",
        "outputId": "242c12cf-a8c9-4bda-be0c-58f7582c799c",
        "colab": {
          "base_uri": "https://localhost:8080/",
          "height": 927
        }
      },
      "execution_count": 33,
      "outputs": [
        {
          "output_type": "display_data",
          "data": {
            "text/plain": [
              "<Figure size 640x480 with 1 Axes>"
            ],
            "image/png": "[encoded data removed]"
          },
          "metadata": {}
        },
        {
          "output_type": "display_data",
          "data": {
            "text/plain": [
              "<Figure size 640x480 with 1 Axes>"
            ],
            "image/png": "[encoded data removed]"
          },
          "metadata": {}
        }
      ]
    },
    {
      "cell_type": "code",
      "source": [
        "print(np.shape(net.weights[0]))\n",
        "print(net.weights[0])"
      ],
      "metadata": {
        "colab": {
          "base_uri": "https://localhost:8080/"
        },
        "id": "-adILgnNKqe9",
        "outputId": "6a4a2bf6-9bcf-4532-d093-f897b1cdee17"
      },
      "execution_count": null,
      "outputs": [
        {
          "output_type": "stream",
          "name": "stdout",
          "text": [
            "(30, 784)\n",
            "[[ 0.45745312 -0.43668441  0.06388325 ... -0.01876614  0.69747384\n",
            "   1.75032045]\n",
            " [ 0.31008606 -1.31462574 -0.95998785 ...  2.07556124 -0.23319521\n",
            "  -0.5521895 ]\n",
            " [ 2.62684071  0.59619412  0.75105954 ...  0.39065436  0.21883096\n",
            "  -0.15008028]\n",
            " ...\n",
            " [ 0.12553374  1.12652397 -0.19640291 ... -1.06957326 -0.38014393\n",
            "   2.12662076]\n",
            " [-0.33401933 -0.27315002 -0.64691649 ...  0.57483904 -1.0439243\n",
            "  -0.26700133]\n",
            " [-2.64108907  0.69231545 -1.57468679 ... -0.20718688  0.5363602\n",
            "   0.16273624]]\n"
          ]
        }
      ]
    },
    {
      "cell_type": "code",
      "source": [
        "print(np.shape(net.weights[1]))\n",
        "print(net.weights[1])"
      ],
      "metadata": {
        "colab": {
          "base_uri": "https://localhost:8080/"
        },
        "id": "3HFpBqj4MJWh",
        "outputId": "57caf5da-b1f7-4e9d-9ad3-ef408720f14c"
      },
      "execution_count": null,
      "outputs": [
        {
          "output_type": "stream",
          "name": "stdout",
          "text": [
            "(10, 30)\n",
            "[[ 8.92742895e-02 -9.53000886e-01 -4.57105149e-01  8.12327680e-01\n",
            "  -1.66712716e+00 -3.52723344e+00  2.43366417e+00 -1.17334118e+00\n",
            "   8.58573096e-01 -6.38617216e-01 -3.98845904e+00  2.60882754e+00\n",
            "  -3.45033814e+00 -4.68697776e+00 -2.93102636e-02 -2.10035207e+00\n",
            "  -1.34230789e+00 -6.94064697e-01 -1.19457306e+00 -2.29509311e+00\n",
            "   3.69451831e+00 -5.47055566e-01  2.43794816e+00 -1.72272752e+00\n",
            "   2.40744671e-01  1.47444250e+00 -1.05438717e+00 -1.86542911e+00\n",
            "  -1.06224867e-01 -2.56395561e+00]\n",
            " [-7.34977609e-01  4.91942640e+00 -1.66675986e+00  1.59401840e+00\n",
            "  -2.16068409e+00 -1.51479916e+00 -1.24537721e+00 -1.68016775e+00\n",
            "   3.37529651e+00 -2.55192130e-01 -6.61492715e-01 -1.81183859e+00\n",
            "   1.68476200e+00 -3.24190509e-01  1.90014317e+00  1.24494728e+00\n",
            "  -4.40024242e+00 -1.63853095e+00 -2.36185595e+00 -8.24469577e-01\n",
            "  -1.22617148e+00 -2.62641360e-01 -3.39598402e+00  1.40744340e+00\n",
            "  -1.83806995e+00 -7.40020693e-01 -1.30620128e+00  1.84904317e+00\n",
            "  -2.15747635e+00  7.20940625e-01]\n",
            " [-2.00012804e+00 -4.47340735e+00 -4.10174465e+00 -1.68728779e+00\n",
            "   3.43772417e+00 -4.39950291e-01 -1.01861013e+00 -1.74087284e+00\n",
            "   7.41972442e-02 -8.48880992e-01  4.49429179e+00 -1.45266742e-01\n",
            "   2.28981194e-01 -1.06400163e+00  1.28358135e-01 -4.45025880e-01\n",
            "   3.70791508e+00  3.96636741e+00 -2.03563838e-01 -6.90680217e-01\n",
            "   2.41501699e+00 -1.15948931e-01 -1.40933711e+00 -3.72756080e+00\n",
            "  -1.90351878e-01 -3.71988276e+00 -6.79415949e-01  1.33284971e+00\n",
            "  -5.86751686e-01 -1.42186576e+00]\n",
            " [-4.18101663e-01 -2.50447025e+00 -3.02191066e+00  1.41234487e+00\n",
            "  -4.01669888e+00 -2.69785880e+00 -8.29362445e-01 -2.43272368e+00\n",
            "  -3.86044611e-01 -2.85263101e+00 -3.29467569e+00 -3.41481050e-01\n",
            "   2.71501806e+00 -2.29385737e+00  8.79398988e-01 -1.75464854e+00\n",
            "  -2.30497351e+00  9.86450861e-01 -1.18941539e+00 -1.16876046e+00\n",
            "  -8.93726695e-01  3.90050146e+00  2.94085851e+00 -4.21461821e-02\n",
            "   5.32335035e-01 -2.16850322e+00  6.16172737e-01 -4.05100206e+00\n",
            "   2.64849537e+00  1.56793737e+00]\n",
            " [-9.17653922e-01 -1.00802682e+00 -3.65312486e+00 -3.90210282e+00\n",
            "  -2.29327302e-01  4.05186621e-01 -3.18877517e+00 -1.99022206e+00\n",
            "   1.51054720e-01 -1.66392733e+00 -2.09729103e+00 -5.25586219e-01\n",
            "  -5.20284622e-01  2.61502813e+00 -3.25039055e+00  1.46046528e+00\n",
            "   3.76739124e+00 -3.03391933e+00 -3.53032121e-01 -5.34518095e-01\n",
            "  -1.08687647e-01 -7.35724755e-01  1.14390141e+00  1.05804900e+00\n",
            "  -3.34164843e+00  1.63080569e+00  3.89588836e+00 -8.99061862e-01\n",
            "  -1.40549484e+00 -2.32085595e-01]\n",
            " [-1.03328631e+00  3.34376068e+00  3.60285980e+00  5.56451858e-01\n",
            "  -8.65820241e-01 -1.09510971e+00  3.07523834e+00 -1.95987557e+00\n",
            "  -1.25298293e+00 -3.93983129e-01 -1.44935177e+00 -3.61714302e+00\n",
            "   2.01144533e-02 -5.33158688e+00  5.35539464e-01 -1.47653258e+00\n",
            "   6.20889810e-01 -1.40685242e+00  4.04232082e+00 -1.51368773e+00\n",
            "  -4.17711321e+00 -4.03599404e+00  4.40225121e+00 -2.11172400e-01\n",
            "   6.38339827e-02 -1.84424763e+00  1.03687781e+00  2.37897849e+00\n",
            "  -1.10809541e+00  9.67634236e-01]\n",
            " [-1.22371331e+00  1.37318649e+00  2.71276273e+00 -2.15041528e+00\n",
            "   3.21383950e-01 -2.71869063e+00  3.94921657e-01 -1.27825896e+00\n",
            "   2.28445009e-03 -6.16066817e-01 -1.77951603e+00  1.56331490e+00\n",
            "  -2.26006321e+00 -1.02226130e+00  1.85657267e+00  4.30641211e-01\n",
            "   2.50151375e+00 -3.31310770e+00 -2.06502365e+00 -1.07969494e-02\n",
            "  -3.39372707e+00  5.33150530e-01 -3.38128344e+00  1.74361095e-01\n",
            "  -2.41709300e+00  3.14927453e+00 -2.66560783e+00  5.09995711e-01\n",
            "   3.47402559e+00  6.44723852e-01]\n",
            " [-2.48627095e+00 -2.40938054e+00  1.44118432e+00  2.79049519e+00\n",
            "  -9.10278015e-01 -2.77751420e+00  2.63801414e+00 -1.45492172e+00\n",
            "   4.00722640e-01 -2.54017339e+00  3.07145142e+00  7.54990107e-01\n",
            "  -1.57816555e+00  4.08462327e+00 -2.05403872e+00  2.38750335e+00\n",
            "  -3.45930967e+00  2.56703314e+00 -9.73175190e-01  4.10319298e+00\n",
            "  -1.98854597e+00  1.03567255e-01 -8.31604676e-01  2.11078434e+00\n",
            "   2.04922803e+00  9.57182903e-01 -1.81887399e-01 -1.25903832e+00\n",
            "  -1.33443349e+00  5.50848083e-01]\n",
            " [-1.59011146e+00 -5.34624273e+00 -1.32440591e+00 -1.43442281e+00\n",
            "  -2.29484305e+00 -1.08982094e+00 -3.13650262e+00 -1.58035769e+00\n",
            "  -1.06488037e+00 -2.51596518e+00 -3.80749591e+00 -1.18494061e+00\n",
            "  -1.19738445e+00 -4.88158965e+00 -1.61347539e+00 -4.50613280e-01\n",
            "  -2.98104180e+00  2.21987472e+00 -2.58350937e+00 -1.46863950e+00\n",
            "  -1.73899017e+00  2.92572486e+00  2.05611135e+00 -8.33708654e-01\n",
            "  -1.75415213e+00  4.50040620e+00 -2.38888609e+00  3.05996226e+00\n",
            "   1.14483019e-01 -5.69051989e-01]\n",
            " [-3.35494817e-01 -1.15751783e+00  4.69932505e-01 -2.42028830e+00\n",
            "   1.51160236e+00 -2.94847505e+00 -4.38294934e+00 -1.72638771e-01\n",
            "   3.84377828e-02  1.33792576e-01 -3.57153375e+00 -5.24149721e-01\n",
            "   1.62115319e+00  3.70121749e+00 -2.68199894e+00 -2.63721235e+00\n",
            "  -4.17352569e+00 -3.64960149e+00  1.25767855e+00 -2.27862889e+00\n",
            "  -1.46015076e-01 -5.39513304e-01  9.45921480e-01  1.81308219e-01\n",
            "   2.63970026e+00  1.59764859e+00 -4.73119070e+00 -3.05762700e-02\n",
            "   6.27531560e-02 -1.61423528e+00]]\n"
          ]
        }
      ]
    }
  ]
}